{
 "cells": [
  {
   "cell_type": "markdown",
   "metadata": {},
   "source": [
    "# Treasure Hunt Game Notebook\n",
    "\n",
    "## Read and Review Your Starter Code\n",
    "The theme of this project is a popular treasure hunt game in which the player needs to find the treasure before the pirate does. While you will not be developing the entire game, you will write the part of the game that represents the intelligent agent, which is a pirate in this case. The pirate will try to find the optimal path to the treasure using deep Q-learning. \n",
    "\n",
    "You have been provided with two Python classes and this notebook to help you with this assignment. The first class, TreasureMaze.py, represents the environment, which includes a maze object defined as a matrix. The second class, GameExperience.py, stores the episodes – that is, all the states that come in between the initial state and the terminal state. This is later used by the agent for learning by experience, called \"exploration\". This notebook shows how to play a game. Your task is to complete the deep Q-learning implementation for which a skeleton implementation has been provided. The code blocks you will need to complete has #TODO as a header.\n",
    "\n",
    "First, read and review the next few code and instruction blocks to understand the code that you have been given."
   ]
  },
  {
   "cell_type": "code",
   "execution_count": 1,
   "metadata": {},
   "outputs": [],
   "source": [
    "from __future__ import print_function\n",
    "import os, sys, time, datetime, json, random\n",
    "import numpy as np\n",
    "import matplotlib\n",
    "from keras.models import Sequential\n",
    "from keras.layers import Dense, Activation, Input\n",
    "from keras.optimizers import SGD , Adam, RMSprop\n",
    "from keras.layers import PReLU\n",
    "import matplotlib.pyplot as plt\n",
    "from TreasureMaze import TreasureMaze\n",
    "from GameExperience import GameExperience\n",
    "%matplotlib inline"
   ]
  },
  {
   "cell_type": "markdown",
   "metadata": {},
   "source": [
    "The following code block contains an 8x8 matrix that will be used as a maze object:"
   ]
  },
  {
   "cell_type": "code",
   "execution_count": 2,
   "metadata": {},
   "outputs": [],
   "source": [
    "maze = np.array([\n",
    "    [ 1.,  0.,  1.,  1.,  1.,  1.,  1.,  1.],\n",
    "    [ 1.,  0.,  1.,  1.,  1.,  0.,  1.,  1.],\n",
    "    [ 1.,  1.,  1.,  1.,  0.,  1.,  0.,  1.],\n",
    "    [ 1.,  1.,  1.,  0.,  1.,  1.,  1.,  1.],\n",
    "    [ 1.,  1.,  0.,  1.,  1.,  1.,  1.,  1.],\n",
    "    [ 1.,  1.,  1.,  0.,  1.,  0.,  0.,  0.],\n",
    "    [ 1.,  1.,  1.,  0.,  1.,  1.,  1.,  1.],\n",
    "    [ 1.,  1.,  1.,  1.,  0.,  1.,  1.,  1.]\n",
    "])"
   ]
  },
  {
   "cell_type": "markdown",
   "metadata": {},
   "source": [
    "This helper function allows a visual representation of the maze object:"
   ]
  },
  {
   "cell_type": "code",
   "execution_count": 3,
   "metadata": {},
   "outputs": [],
   "source": [
    "def show(qmaze):\n",
    "    plt.grid('on')\n",
    "    nrows, ncols = qmaze.maze.shape\n",
    "    ax = plt.gca()\n",
    "    ax.set_xticks(np.arange(0.5, nrows, 1))\n",
    "    ax.set_yticks(np.arange(0.5, ncols, 1))\n",
    "    ax.set_xticklabels([])\n",
    "    ax.set_yticklabels([])\n",
    "    canvas = np.copy(qmaze.maze)\n",
    "    for row,col in qmaze.visited:\n",
    "        canvas[row,col] = 0.6\n",
    "    pirate_row, pirate_col, _ = qmaze.state\n",
    "    target_row, target_col = qmaze.target\n",
    "    canvas[pirate_row, pirate_col] = 0.3   # pirate cell\n",
    "    canvas[target_row, target_col] = 0.9 # treasure cell\n",
    "    img = plt.imshow(canvas, interpolation='none', cmap='gray')\n",
    "    return img"
   ]
  },
  {
   "cell_type": "markdown",
   "metadata": {},
   "source": [
    "The pirate agent can move in four directions: left, right, up, and down.\n",
    "\n",
    "While the agent primarily learns by experience through exploitation, often, the agent can choose to explore the environment to find previously undiscovered paths. This is called \"exploration\" and is defined by epsilon. This value is typically a lower value such as 0.1, which means for every ten attempts, the agent will attempt to learn by experience nine times and will randomly explore a new path one time. You are encouraged to try various values for the exploration factor and see how the algorithm performs."
   ]
  },
  {
   "cell_type": "code",
   "execution_count": 4,
   "metadata": {},
   "outputs": [],
   "source": [
    "LEFT = 0\n",
    "UP = 1\n",
    "RIGHT = 2\n",
    "DOWN = 3\n",
    "\n",
    "\n",
    "# Exploration factor\n",
    "epsilon = 0.1\n",
    "\n",
    "# Actions dictionary\n",
    "actions_dict = {\n",
    "    LEFT: 'left',\n",
    "    UP: 'up',\n",
    "    RIGHT: 'right',\n",
    "    DOWN: 'down',\n",
    "}\n",
    "\n",
    "num_actions = len(actions_dict)\n"
   ]
  },
  {
   "cell_type": "markdown",
   "metadata": {},
   "source": [
    "The following code will be the setup for the function to generate a randomized maze. There are several variables that will be set here to help standardize the maze generation."
   ]
  },
  {
   "cell_type": "code",
   "execution_count": 5,
   "metadata": {},
   "outputs": [],
   "source": [
    "MAZE_WIDTH = 8\n",
    "MAZE_HEIGHT = 8\n",
    "# This is the probability that any single cell will be a wall, \n",
    "# the probability is out of 100, so there is a WALL_CHANCE out of 100 that an individual cell is a wall\n",
    "WALL_CHANCE = 33 \n",
    "DEFAULT_PIRATE_POSITION = (0, 0)"
   ]
  },
  {
   "cell_type": "markdown",
   "metadata": {},
   "source": [
    "This is the main function that will generate the randomized maze."
   ]
  },
  {
   "cell_type": "code",
   "execution_count": 6,
   "metadata": {},
   "outputs": [],
   "source": [
    "def generate_maze():\n",
    "    # Randomly generate the array of values\n",
    "    maze_values = np.ones((MAZE_WIDTH, MAZE_HEIGHT))\n",
    "    i = 0\n",
    "    while i < len(maze_values):\n",
    "        j = 0\n",
    "        while j < len(maze_values):\n",
    "            chance = random.randint(1, 100)\n",
    "            if chance <= WALL_CHANCE:\n",
    "                maze_values[i][j] = 0\n",
    "            j += 1\n",
    "        i += 1\n",
    "\n",
    "    # Randomly generate the target location\n",
    "    x = random.randint(0, MAZE_WIDTH - 1)\n",
    "    y = random.randint(0, MAZE_HEIGHT - 1)\n",
    "    target_location = (x, y)\n",
    "    \n",
    "    # Ensure that the default pirate position and the target position are unblocked\n",
    "    maze_values[target_location[0]][target_location[1]] = 1\n",
    "    maze_values[DEFAULT_PIRATE_POSITION[0]][DEFAULT_PIRATE_POSITION[1]] = 1\n",
    "\n",
    "    # Create the TreasureMaze Object to test pathing in the maze\n",
    "    maze = TreasureMaze(maze_values, target_location)\n",
    "    \n",
    "    # Check each cell and determine if there is a valid path to the target\n",
    "    free_cells = maze.free_cells\n",
    "    visited = [] # Holds cells that have been visited to avoid repeat calculations\n",
    "    next_cell_que = [] # Holds the cells we plan to visit\n",
    "    for cell in free_cells:\n",
    "        # If its been visited, we know there is no need to check again\n",
    "        if cell in visited:\n",
    "            continue\n",
    "        # Begin the que\n",
    "        visited.append(cell)\n",
    "        next_cell_que.append(cell)\n",
    "\n",
    "        # While the queue is not empty, continuing searching and adding new cells to travel to until you reach the target cell\n",
    "        while len(next_cell_que) != 0:\n",
    "            # Pop the next item\n",
    "            next_cell = next_cell_que.pop(0)\n",
    "            visited.append(next_cell)\n",
    "            valid_moves = maze.valid_actions(next_cell) \n",
    "            # Add the valid moves to the queue to be checked next\n",
    "            for move in valid_moves:\n",
    "                check_next = None\n",
    "                if move == LEFT:\n",
    "                    check_next = (next_cell[0], next_cell[1] - 1)\n",
    "                elif move == UP:\n",
    "                    check_next = (next_cell[0] - 1, next_cell[1])\n",
    "                elif move == RIGHT:\n",
    "                    check_next = (next_cell[0], next_cell[1] + 1)\n",
    "                elif move == DOWN:\n",
    "                    check_next = (next_cell[0] + 1, next_cell[1])\n",
    "\n",
    "                # Only add this cell if it hasn't been checked before and is not currently in the que\n",
    "                if (check_next not in visited) and (check_next not in next_cell_que):\n",
    "                    next_cell_que.append(check_next)\n",
    "            \n",
    "            # If the que is empty, then there were no valid new moves to add, there is a wall blocking the path\n",
    "            # Find and destroy the wall, then add that cell to the que\n",
    "            if len(next_cell_que) == 0:\n",
    "                # Arbitrarily start by searching right, left, up then down\n",
    "                # Search until the right edge is found or a wall\n",
    "                search_cell = (next_cell[0], next_cell[1] + 1)\n",
    "                while search_cell[1] < MAZE_WIDTH:\n",
    "                    # Wall found, destroy and add this cell to the que\n",
    "                    if maze_values[search_cell[0]][search_cell[1]] == 0:\n",
    "                        maze_values[search_cell[0]][search_cell[1]] = 1\n",
    "                        next_cell_que.append(search_cell)\n",
    "                        break\n",
    "                    search_cell = (search_cell[0], search_cell[1] + 1)\n",
    "\n",
    "                # Assuming a valid wall was found, continue testing the maze\n",
    "                if len(next_cell_que) == 1:\n",
    "                    continue\n",
    "                    \n",
    "                # Search until the left edge is found or a wall\n",
    "                search_cell = (next_cell[0], next_cell[1] - 1)\n",
    "                while search_cell[1] >= 0:\n",
    "                    # Wall found, destroy and add this cell to the que\n",
    "                    if maze_values[search_cell[0]][search_cell[1]] == 0:\n",
    "                        maze_values[search_cell[0]][search_cell[1]] = 1\n",
    "                        next_cell_que.append(search_cell)\n",
    "                        break\n",
    "                    search_cell = (search_cell[0], search_cell[1] - 1)\n",
    "\n",
    "                # Assuming a valid wall was found, continue testing the maze\n",
    "                if len(next_cell_que) == 1:\n",
    "                    continue\n",
    "\n",
    "                # Search until the upper edge is found or a wall\n",
    "                search_cell = (next_cell[0] - 1, next_cell[1])\n",
    "                while search_cell[0] >= 0:\n",
    "                    # Wall found, destroy and add this cell to the que\n",
    "                    if maze_values[search_cell[0]][search_cell[1]] == 0:\n",
    "                        maze_values[search_cell[0]][search_cell[1]] = 1\n",
    "                        next_cell_que.append(search_cell)\n",
    "                        break\n",
    "                    search_cell = (search_cell[0] - 1, search_cell[1])\n",
    "\n",
    "\n",
    "                # Assuming a valid wall was found, continue testing the maze\n",
    "                if len(next_cell_que) == 1:\n",
    "                    continue\n",
    "                    \n",
    "                # Search until the bottom edge is found or a wall\n",
    "                search_cell = (next_cell[0] + 1, next_cell[1])\n",
    "                while search_cell[0] < MAZE_HEIGHT:\n",
    "                    # Wall found, destroy and add this cell to the que\n",
    "                    if maze_values[search_cell[0]][search_cell[1]] == 0:\n",
    "                        maze_values[search_cell[0]][search_cell[1]] = 1\n",
    "                        next_cell_que.append(search_cell)\n",
    "                        break\n",
    "                    search_cell = (search_cell[0] + 1, search_cell[1])\n",
    "\n",
    "            # When the goal is in the que, we know that each cell that has been visited or that is now in the que is able to reach the goal\n",
    "            # Therefore there is no need to check any of them further\n",
    "            if target_location in next_cell_que:\n",
    "                # Remove the goal from the que - we want this to be added again for other cells\n",
    "                next_cell_que.remove(target_location)\n",
    "                # Add the remaining cells to the visited list\n",
    "                visited.extend(next_cell_que)\n",
    "                next_cell_que = []\n",
    "                \n",
    "    # Finally, regenerate the maze with the validated paths\n",
    "    maze = TreasureMaze(maze_values, target_location)\n",
    "    return maze"
   ]
  },
  {
   "cell_type": "markdown",
   "metadata": {},
   "source": [
    "The sample code block and output below show creating a maze object and performing one action (DOWN), which returns the reward. The resulting updated environment is visualized."
   ]
  },
  {
   "cell_type": "code",
   "execution_count": 7,
   "metadata": {},
   "outputs": [
    {
     "name": "stdout",
     "output_type": "stream",
     "text": [
      "reward= -0.04\n"
     ]
    },
    {
     "data": {
      "text/plain": [
       "<matplotlib.image.AxesImage at 0x1fd393b6d20>"
      ]
     },
     "execution_count": 7,
     "metadata": {},
     "output_type": "execute_result"
    },
    {
     "data": {
      "image/png": "[encoded data removed]",
      "text/plain": [
       "<Figure size 640x480 with 1 Axes>"
      ]
     },
     "metadata": {},
     "output_type": "display_data"
    }
   ],
   "source": [
    "qmaze = TreasureMaze(maze, (MAZE_WIDTH - 1, MAZE_HEIGHT - 1))\n",
    "canvas, reward, game_over = qmaze.act(DOWN)\n",
    "print(\"reward=\", reward)\n",
    "show(qmaze)"
   ]
  },
  {
   "cell_type": "markdown",
   "metadata": {},
   "source": [
    "This function simulates a full game based on the provided trained model. The other parameters include the TreasureMaze object and the starting position of the pirate."
   ]
  },
  {
   "cell_type": "code",
   "execution_count": 8,
   "metadata": {},
   "outputs": [],
   "source": [
    "def play_game(model, qmaze, pirate_cell):\n",
    "    qmaze.reset(pirate_cell)\n",
    "    envstate = qmaze.observe()\n",
    "    while True:\n",
    "        prev_envstate = envstate\n",
    "        # get next action\n",
    "        q = model.predict(prev_envstate)\n",
    "        action = np.argmax(q[0])\n",
    "\n",
    "        # apply action, get rewards and new state\n",
    "        envstate, reward, game_status = qmaze.act(action)\n",
    "        if game_status == 'win':\n",
    "            return True\n",
    "        elif game_status == 'lose':\n",
    "            return False"
   ]
  },
  {
   "cell_type": "markdown",
   "metadata": {},
   "source": [
    "This function helps you to determine whether the pirate can win any game at all. If your maze is not well designed, the pirate may not win any game at all. In this case, your training would not yield any result. The provided maze in this notebook ensures that there is a path to win and you can run this method to check."
   ]
  },
  {
   "cell_type": "code",
   "execution_count": 9,
   "metadata": {},
   "outputs": [],
   "source": [
    "def completion_check(model, qmaze):\n",
    "    for cell in qmaze.free_cells:\n",
    "        if not qmaze.valid_actions(cell):\n",
    "            return False\n",
    "        if not play_game(model, qmaze, cell):\n",
    "            return False\n",
    "    return True"
   ]
  },
  {
   "cell_type": "markdown",
   "metadata": {},
   "source": [
    "The code you have been given in this block will build the neural network model. Review the code and note the number of layers, as well as the activation, optimizer, and loss functions that are used to train the model."
   ]
  },
  {
   "cell_type": "code",
   "execution_count": 10,
   "metadata": {},
   "outputs": [],
   "source": [
    "def build_model(maze):\n",
    "    model = Sequential()\n",
    "    model.add(Input(shape=(maze.size,)))\n",
    "    model.add(Dense(maze.size))\n",
    "    model.add(PReLU())\n",
    "    model.add(Dense(maze.size))\n",
    "    model.add(PReLU())\n",
    "    model.add(Dense(num_actions))\n",
    "    model.compile(optimizer='adam', loss='mse')\n",
    "    return model"
   ]
  },
  {
   "cell_type": "markdown",
   "metadata": {},
   "source": [
    "# #TODO: Complete the Q-Training Algorithm Code Block\n",
    "\n",
    "This is your deep Q-learning implementation. The goal of your deep Q-learning implementation is to find the best possible navigation sequence that results in reaching the treasure cell while maximizing the reward. In your implementation, you need to determine the optimal number of epochs to achieve a 100% win rate.\n",
    "\n",
    "You will need to complete the section starting with #pseudocode. The pseudocode has been included for you."
   ]
  },
  {
   "cell_type": "code",
   "execution_count": 11,
   "metadata": {},
   "outputs": [],
   "source": [
    "def qtrain(model, **opt):\n",
    "\n",
    "    # exploration factor\n",
    "    global epsilon \n",
    "\n",
    "    # number of epochs\n",
    "    n_epoch = opt.get('n_epoch', 15000)\n",
    "\n",
    "    # maximum memory to store episodes\n",
    "    max_memory = opt.get('max_memory', 1000)\n",
    "\n",
    "    # maximum data size for training\n",
    "    data_size = opt.get('data_size', 50)\n",
    "\n",
    "    # start time\n",
    "    start_time = datetime.datetime.now()\n",
    "\n",
    "    # Construct environment/game from numpy array: maze (see above)\n",
    "    # Creates a randomized yet valid maze to complete\n",
    "    qmaze = generate_maze()\n",
    "    print(\"Maze 1:\")\n",
    "    plt.show(show(qmaze))\n",
    "    # This is the number of times the agent is allowed to try a maze before it is randomized again\n",
    "    maze_attempts = 10\n",
    "    free_cells = qmaze.free_cells\n",
    "\n",
    "    # Initialize experience replay object\n",
    "    experience = GameExperience(model, max_memory=max_memory)\n",
    "    \n",
    "    win_history = []   # history of win/lose game\n",
    "    hsize = qmaze.maze.size//2   # history window size\n",
    "    win_rate = 0.0\n",
    "    \n",
    "    # pseudocode:\n",
    "    # For each epoch:\n",
    "    attempts = 0\n",
    "    mazes = 2\n",
    "    for epoch in range(n_epoch):\n",
    "        attempts += 1\n",
    "        # Determine if it is time to randomize the maze again\n",
    "        if attempts >= maze_attempts:\n",
    "            qmaze = generate_maze()\n",
    "            print(\"Maze \" + str(mazes) + \":\")\n",
    "            plt.show(show(qmaze))\n",
    "            mazes += 1\n",
    "            free_cells = qmaze.free_cells\n",
    "            attempts = 0\n",
    "        #    Agent_cell = randomly select a free cell\n",
    "        agent_cell = random.choice(free_cells)\n",
    "        loss = 0.0\n",
    "        n_episodes = 0\n",
    "        #    Reset the maze with agent set to above position\n",
    "        #    Hint: Review the reset method in the TreasureMaze.py class.\n",
    "        qmaze.reset(agent_cell)\n",
    "        #    envstate = Environment.current_state\n",
    "        #    Hint: Review the observe method in the TreasureMaze.py class.\n",
    "        envstate = qmaze.observe()\n",
    "        #    While state is not game over:\n",
    "    \n",
    "        while qmaze.game_status() == 'not_over':\n",
    "            #        previous_envstate = envstate\n",
    "            #        Action = randomly choose action (left, right, up, down) either by exploration or by exploitation\n",
    "            #        envstate, reward, game_status = qmaze.act(action)\n",
    "            #    Hint: Review the act method in the TreasureMaze.py class.\n",
    "            previous_envstate = envstate\n",
    "            action = -1\n",
    "            action_space = qmaze.valid_actions()\n",
    "            # Explore\n",
    "            if np.random.rand() < epsilon:\n",
    "                action = random.choice(action_space)\n",
    "            # Exploitation\n",
    "            else:\n",
    "                q_values = model.predict(envstate, verbose=0)\n",
    "                action = np.argmax(q_values[0])\n",
    "            envstate, reward, game_status = qmaze.act(action)\n",
    "            #        episode = [previous_envstate, action, reward, envstate, game_status]\n",
    "            #        Store episode in Experience replay object\n",
    "            #    Hint: Review the remember method in the GameExperience.py class.\n",
    "            episode = [previous_envstate, action, reward, envstate, game_status]\n",
    "            experience.remember(episode)\n",
    "            n_episodes += 1\n",
    "            if (qmaze.game_status() == 'lose'):\n",
    "                win_history.append(0)\n",
    "            elif (qmaze.game_status() == 'win'):\n",
    "                win_history.append(1)\n",
    "            #        Train neural network model and evaluate loss\n",
    "            #    Hint: Call GameExperience.get_data to retrieve training data (input and target) and pass to model.fit method \n",
    "            input_data, target = experience.get_data()\n",
    "            model.fit(input_data, target, verbose=0)\n",
    "            #          to train the model. You can call model.evaluate to determine loss.\n",
    "            loss = model.evaluate(input_data, target, verbose=0)\n",
    "        #    If the win rate is above the threshold and your model passes the completion check, that would be your epoch.    \n",
    "        #Print the epoch, loss, episodes, win count, and win rate for each epoch\n",
    "        if (len(win_history) != 0):\n",
    "            win_rate = sum(win_history) / len(win_history)\n",
    "        dt = datetime.datetime.now() - start_time\n",
    "        t = format_time(dt.total_seconds())\n",
    "        template = \"Epoch: {:03d}/{:d} | Loss: {:.4f} | Episodes: {:d} | Win count: {:d} | Win rate: {:.3f} | time: {}\"\n",
    "        print(template.format(epoch, n_epoch-1, loss, n_episodes, sum(win_history), win_rate, t))\n",
    "        # We simply check if training has exhausted all free cells and if in all\n",
    "        # cases the agent won.\n",
    "        if win_rate > 0.9 : epsilon = 0.05\n",
    "        if sum(win_history[-hsize:]) == hsize and completion_check(model, qmaze):\n",
    "            print(\"Reached 100%% win rate at epoch: %d\" % (epoch,))\n",
    "            break\n",
    "\n",
    "    \n",
    "    # Determine the total time for training\n",
    "    dt = datetime.datetime.now() - start_time\n",
    "    seconds = dt.total_seconds()\n",
    "    t = format_time(seconds)\n",
    "\n",
    "    print(\"n_epoch: %d, max_mem: %d, data: %d, time: %s\" % (epoch, max_memory, data_size, t))\n",
    "    return seconds\n",
    "\n",
    "# This is a small utility for printing readable time strings:\n",
    "def format_time(seconds):\n",
    "    if seconds < 400:\n",
    "        s = float(seconds)\n",
    "        return \"%.1f seconds\" % (s,)\n",
    "    elif seconds < 4000:\n",
    "        m = seconds / 60.0\n",
    "        return \"%.2f minutes\" % (m,)\n",
    "    else:\n",
    "        h = seconds / 3600.0\n",
    "        return \"%.2f hours\" % (h,)"
   ]
  },
  {
   "cell_type": "markdown",
   "metadata": {},
   "source": [
    "## Test Your Model\n",
    "\n",
    "Now we will start testing the deep Q-learning implementation. To begin, select **Cell**, then **Run All** from the menu bar. This will run your notebook. As it runs, you should see output begin to appear beneath the next few cells. The code below creates an instance of TreasureMaze."
   ]
  },
  {
   "cell_type": "code",
   "execution_count": 12,
   "metadata": {},
   "outputs": [
    {
     "data": {
      "text/plain": [
       "<matplotlib.image.AxesImage at 0x1fd393254c0>"
      ]
     },
     "execution_count": 12,
     "metadata": {},
     "output_type": "execute_result"
    },
    {
     "data": {
      "image/png": "[encoded data removed]",
      "text/plain": [
       "<Figure size 640x480 with 1 Axes>"
      ]
     },
     "metadata": {},
     "output_type": "display_data"
    }
   ],
   "source": [
    "qmaze = TreasureMaze(maze, (MAZE_WIDTH - 1, MAZE_HEIGHT - 1))\n",
    "show(qmaze)"
   ]
  },
  {
   "cell_type": "markdown",
   "metadata": {},
   "source": [
    "In the next code block, you will build your model and train it using deep Q-learning. Note: This step takes several minutes to fully run."
   ]
  },
  {
   "cell_type": "code",
   "execution_count": null,
   "metadata": {},
   "outputs": [
    {
     "name": "stdout",
     "output_type": "stream",
     "text": [
      "Maze 1:\n"
     ]
    },
    {
     "data": {
      "image/png": "[encoded data removed]",
      "text/plain": [
       "<Figure size 640x480 with 1 Axes>"
      ]
     },
     "metadata": {},
     "output_type": "display_data"
    },
    {
     "name": "stdout",
     "output_type": "stream",
     "text": [
      "Epoch: 000/14999 | Loss: 0.0060 | Episodes: 49 | Win count: 0 | Win rate: 0.000 | time: 40.3 seconds\n",
      "Epoch: 001/14999 | Loss: 0.0208 | Episodes: 66 | Win count: 0 | Win rate: 0.000 | time: 98.0 seconds\n",
      "Epoch: 002/14999 | Loss: 0.0131 | Episodes: 47 | Win count: 0 | Win rate: 0.000 | time: 138.7 seconds\n",
      "Epoch: 003/14999 | Loss: 0.0217 | Episodes: 54 | Win count: 0 | Win rate: 0.000 | time: 185.7 seconds\n",
      "Epoch: 004/14999 | Loss: 0.0239 | Episodes: 57 | Win count: 0 | Win rate: 0.000 | time: 235.5 seconds\n",
      "Epoch: 005/14999 | Loss: 0.0119 | Episodes: 72 | Win count: 0 | Win rate: 0.000 | time: 298.7 seconds\n",
      "Epoch: 006/14999 | Loss: 0.0238 | Episodes: 60 | Win count: 0 | Win rate: 0.000 | time: 351.2 seconds\n",
      "Epoch: 007/14999 | Loss: 0.0149 | Episodes: 57 | Win count: 0 | Win rate: 0.000 | time: 6.67 minutes\n",
      "Epoch: 008/14999 | Loss: 0.0227 | Episodes: 1 | Win count: 1 | Win rate: 0.111 | time: 6.69 minutes\n",
      "Maze 2:\n"
     ]
    },
    {
     "data": {
      "image/png": "[encoded data removed]",
      "text/plain": [
       "<Figure size 640x480 with 1 Axes>"
      ]
     },
     "metadata": {},
     "output_type": "display_data"
    },
    {
     "name": "stdout",
     "output_type": "stream",
     "text": [
      "Epoch: 009/14999 | Loss: 0.0155 | Episodes: 60 | Win count: 1 | Win rate: 0.100 | time: 7.57 minutes\n",
      "Epoch: 010/14999 | Loss: 0.0209 | Episodes: 78 | Win count: 1 | Win rate: 0.091 | time: 8.70 minutes\n",
      "Epoch: 011/14999 | Loss: 0.0220 | Episodes: 55 | Win count: 1 | Win rate: 0.083 | time: 9.50 minutes\n",
      "Epoch: 012/14999 | Loss: 0.0150 | Episodes: 57 | Win count: 1 | Win rate: 0.077 | time: 10.33 minutes\n",
      "Epoch: 013/14999 | Loss: 0.0252 | Episodes: 65 | Win count: 2 | Win rate: 0.143 | time: 11.67 minutes\n",
      "Epoch: 014/14999 | Loss: 0.0264 | Episodes: 53 | Win count: 3 | Win rate: 0.200 | time: 13.14 minutes\n",
      "Epoch: 015/14999 | Loss: 0.0207 | Episodes: 75 | Win count: 3 | Win rate: 0.188 | time: 15.26 minutes\n",
      "Epoch: 016/14999 | Loss: 0.0231 | Episodes: 38 | Win count: 4 | Win rate: 0.235 | time: 16.28 minutes\n",
      "Epoch: 017/14999 | Loss: 0.0238 | Episodes: 33 | Win count: 5 | Win rate: 0.278 | time: 17.17 minutes\n",
      "Epoch: 018/14999 | Loss: 0.0263 | Episodes: 58 | Win count: 6 | Win rate: 0.316 | time: 18.79 minutes\n",
      "Maze 3:\n"
     ]
    },
    {
     "data": {
      "image/png": "[encoded data removed]",
      "text/plain": [
       "<Figure size 640x480 with 1 Axes>"
      ]
     },
     "metadata": {},
     "output_type": "display_data"
    },
    {
     "name": "stdout",
     "output_type": "stream",
     "text": [
      "Epoch: 019/14999 | Loss: 0.0211 | Episodes: 67 | Win count: 6 | Win rate: 0.300 | time: 20.66 minutes\n",
      "Epoch: 020/14999 | Loss: 0.0714 | Episodes: 80 | Win count: 6 | Win rate: 0.286 | time: 22.74 minutes\n",
      "Epoch: 021/14999 | Loss: 0.0739 | Episodes: 85 | Win count: 6 | Win rate: 0.273 | time: 24.95 minutes\n",
      "Epoch: 022/14999 | Loss: 0.0275 | Episodes: 7 | Win count: 7 | Win rate: 0.304 | time: 25.13 minutes\n",
      "Epoch: 023/14999 | Loss: 0.0203 | Episodes: 77 | Win count: 7 | Win rate: 0.292 | time: 27.16 minutes\n",
      "Epoch: 024/14999 | Loss: 0.0207 | Episodes: 25 | Win count: 8 | Win rate: 0.320 | time: 27.83 minutes\n",
      "Epoch: 025/14999 | Loss: 0.0238 | Episodes: 51 | Win count: 9 | Win rate: 0.346 | time: 29.30 minutes\n",
      "Epoch: 026/14999 | Loss: 0.0178 | Episodes: 67 | Win count: 9 | Win rate: 0.333 | time: 31.22 minutes\n",
      "Epoch: 027/14999 | Loss: 0.0549 | Episodes: 2 | Win count: 10 | Win rate: 0.357 | time: 31.28 minutes\n",
      "Epoch: 028/14999 | Loss: 0.0139 | Episodes: 41 | Win count: 11 | Win rate: 0.379 | time: 32.41 minutes\n",
      "Maze 4:\n"
     ]
    },
    {
     "data": {
      "image/png": "[encoded data removed]",
      "text/plain": [
       "<Figure size 640x480 with 1 Axes>"
      ]
     },
     "metadata": {},
     "output_type": "display_data"
    },
    {
     "name": "stdout",
     "output_type": "stream",
     "text": [
      "Epoch: 029/14999 | Loss: 0.0255 | Episodes: 47 | Win count: 12 | Win rate: 0.400 | time: 33.74 minutes\n",
      "Epoch: 030/14999 | Loss: 0.0184 | Episodes: 65 | Win count: 12 | Win rate: 0.387 | time: 35.63 minutes\n",
      "Epoch: 031/14999 | Loss: 0.0139 | Episodes: 6 | Win count: 13 | Win rate: 0.406 | time: 35.79 minutes\n",
      "Epoch: 032/14999 | Loss: 0.0172 | Episodes: 11 | Win count: 14 | Win rate: 0.424 | time: 36.06 minutes\n",
      "Epoch: 033/14999 | Loss: 0.0186 | Episodes: 13 | Win count: 15 | Win rate: 0.441 | time: 36.25 minutes\n",
      "Epoch: 034/14999 | Loss: 0.0206 | Episodes: 54 | Win count: 15 | Win rate: 0.429 | time: 37.05 minutes\n",
      "Epoch: 035/14999 | Loss: 0.1151 | Episodes: 80 | Win count: 15 | Win rate: 0.417 | time: 38.23 minutes\n",
      "Epoch: 036/14999 | Loss: 0.0208 | Episodes: 82 | Win count: 15 | Win rate: 0.405 | time: 39.46 minutes\n",
      "Epoch: 037/14999 | Loss: 0.0231 | Episodes: 68 | Win count: 15 | Win rate: 0.395 | time: 40.46 minutes\n",
      "Epoch: 038/14999 | Loss: 0.0346 | Episodes: 73 | Win count: 16 | Win rate: 0.410 | time: 41.57 minutes\n",
      "Maze 5:\n"
     ]
    },
    {
     "data": {
      "image/png": "[encoded data removed]",
      "text/plain": [
       "<Figure size 640x480 with 1 Axes>"
      ]
     },
     "metadata": {},
     "output_type": "display_data"
    },
    {
     "name": "stdout",
     "output_type": "stream",
     "text": [
      "Epoch: 039/14999 | Loss: 0.0628 | Episodes: 16 | Win count: 17 | Win rate: 0.425 | time: 41.82 minutes\n"
     ]
    }
   ],
   "source": [
    "model = build_model(maze)\n",
    "qtrain(model, epochs=1000, max_memory=8*maze.size, data_size=32)"
   ]
  },
  {
   "cell_type": "markdown",
   "metadata": {},
   "source": [
    "This cell will check to see if the model passes the completion check. Note: This could take several minutes."
   ]
  },
  {
   "cell_type": "code",
   "execution_count": null,
   "metadata": {},
   "outputs": [],
   "source": [
    "completion_check(model, qmaze)\n",
    "show(qmaze)"
   ]
  },
  {
   "cell_type": "markdown",
   "metadata": {},
   "source": [
    "This cell will test your model for one game. It will start the pirate at the top-left corner and run play_game. The agent should find a path from the starting position to the target (treasure). The treasure is located in the bottom-right corner."
   ]
  },
  {
   "cell_type": "code",
   "execution_count": null,
   "metadata": {},
   "outputs": [],
   "source": [
    "pirate_start = (0, 0)\n",
    "play_game(model, qmaze, pirate_start)\n",
    "show(qmaze)"
   ]
  },
  {
   "cell_type": "markdown",
   "metadata": {},
   "source": [
    "## Save and Submit Your Work\n",
    "After you have finished creating the code for your notebook, save your work. Make sure that your notebook contains your name in the filename (e.g. Doe_Jane_ProjectTwo.ipynb). This will help your instructor access and grade your work easily. Download a copy of your IPYNB file and submit it to Brightspace. Refer to the Jupyter Notebook in Apporto Tutorial if you need help with these tasks."
   ]
  }
 ],
 "metadata": {
  "kernelspec": {
   "display_name": "Python 3 (ipykernel)",
   "language": "python",
   "name": "python3"
  },
  "language_info": {
   "codemirror_mode": {
    "name": "ipython",
    "version": 3
   },
   "file_extension": ".py",
   "mimetype": "text/x-python",
   "name": "python",
   "nbconvert_exporter": "python",
   "pygments_lexer": "ipython3",
   "version": "3.12.10"
  }
 },
 "nbformat": 4,
 "nbformat_minor": 4
}
